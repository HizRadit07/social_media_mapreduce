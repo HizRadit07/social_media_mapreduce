{
 "cells": [
  {
   "cell_type": "code",
   "execution_count": 1,
   "id": "13fd770b",
   "metadata": {},
   "outputs": [],
   "source": [
    "import json\n",
    "import fnmatch\n",
    "import os"
   ]
  },
  {
   "cell_type": "code",
   "execution_count": 3,
   "id": "6c5b130c",
   "metadata": {},
   "outputs": [],
   "source": [
    "f1 = open('anaktester_go.json.json','r',encoding=\"utf8\")\n",
    "f2 = open('byu.id.json.json','r',encoding=\"utf8\")\n",
    "f3 = open('gridoto_news.json.json','r',encoding=\"utf8\")\n",
    "f4 = open('myxl.json.json','r',encoding=\"utf8\")\n",
    "f5 = open('telkomsel.json.json','r',encoding=\"utf8\")\n",
    "\n",
    "\n",
    "data1 = json.load(f1)\n",
    "data2 = json.load(f2)\n",
    "data3 = json.load(f3)\n",
    "data4 = json.load(f4)\n",
    "data5 = json.load(f5)\n",
    "\n",
    "wfile = open(\"others.txt\", \"w\")\n",
    "wfile.write(json.dumps(data1))\n",
    "wfile.write('\\n')\n",
    "wfile.write(json.dumps(data2))\n",
    "wfile.write('\\n')\n",
    "wfile.write(json.dumps(data3))\n",
    "wfile.write('\\n')\n",
    "wfile.write(json.dumps(data4))\n",
    "wfile.write('\\n')\n",
    "wfile.write(json.dumps(data5))\n",
    "\n",
    "\n",
    "f5.close()\n",
    "f4.close()\n",
    "f3.close()\n",
    "f2.close()\n",
    "f1.close()"
   ]
  },
  {
   "cell_type": "code",
   "execution_count": null,
   "id": "ba068488",
   "metadata": {},
   "outputs": [],
   "source": []
  }
 ],
 "metadata": {
  "kernelspec": {
   "display_name": "Python 3 (ipykernel)",
   "language": "python",
   "name": "python3"
  },
  "language_info": {
   "codemirror_mode": {
    "name": "ipython",
    "version": 3
   },
   "file_extension": ".py",
   "mimetype": "text/x-python",
   "name": "python",
   "nbconvert_exporter": "python",
   "pygments_lexer": "ipython3",
   "version": "3.9.12"
  }
 },
 "nbformat": 4,
 "nbformat_minor": 5
}
