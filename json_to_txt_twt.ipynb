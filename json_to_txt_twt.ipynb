{
 "cells": [
  {
   "cell_type": "code",
   "execution_count": 1,
   "id": "24117f91",
   "metadata": {},
   "outputs": [],
   "source": [
    "import json\n",
    "import fnmatch\n",
    "import os"
   ]
  },
  {
   "cell_type": "code",
   "execution_count": 2,
   "id": "1d676475",
   "metadata": {},
   "outputs": [],
   "source": [
    "wfile = open(\"twt.txt\", \"w\")\n",
    "\n",
    "for filename in os.listdir('.'):\n",
    "    if (\"twitter\" in filename): \n",
    "        f = open(filename,'r',encoding=\"utf8\")\n",
    "        data = json.load(f)\n",
    "        \n",
    "        wfile.write(json.dumps(data))\n",
    "        wfile.write('\\n')\n",
    "        \n",
    "        f.close()\n",
    "\n",
    "wfile.close()"
   ]
  },
  {
   "cell_type": "code",
   "execution_count": null,
   "id": "e0846cf6",
   "metadata": {},
   "outputs": [],
   "source": []
  }
 ],
 "metadata": {
  "kernelspec": {
   "display_name": "Python 3 (ipykernel)",
   "language": "python",
   "name": "python3"
  },
  "language_info": {
   "codemirror_mode": {
    "name": "ipython",
    "version": 3
   },
   "file_extension": ".py",
   "mimetype": "text/x-python",
   "name": "python",
   "nbconvert_exporter": "python",
   "pygments_lexer": "ipython3",
   "version": "3.9.12"
  }
 },
 "nbformat": 4,
 "nbformat_minor": 5
}
